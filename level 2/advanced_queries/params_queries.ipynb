{
 "cells": [
  {
   "cell_type": "markdown",
   "metadata": {},
   "source": [
    "# Connect To DB"
   ]
  },
  {
   "cell_type": "code",
   "execution_count": null,
   "metadata": {},
   "outputs": [],
   "source": [
    "%load_ext sql\n",
    "%sql mysql://no_pass@localhost:3306/HogwartzAccounting?local_infile=1"
   ]
  },
  {
   "cell_type": "markdown",
   "metadata": {},
   "source": [
    "# Find Student Debt To University"
   ]
  },
  {
   "cell_type": "code",
   "execution_count": null,
   "metadata": {},
   "outputs": [],
   "source": [
    "studentid = 41"
   ]
  },
  {
   "cell_type": "code",
   "execution_count": null,
   "metadata": {
    "vscode": {
     "languageId": "sql"
    }
   },
   "outputs": [],
   "source": [
    "%%sql\n",
    "SELECT\n",
    "\n",
    "(\n",
    "    -- amount owed by student\n",
    "    SELECT SUM(COURSE_COST) FROM COURSE WHERE COURSE_ID IN (\n",
    "        SELECT COURSE_ID FROM STUDENT_COURSE WHERE STUDENT_ID = {studentid}\n",
    "    )\n",
    ")\n",
    "- \n",
    "(\n",
    "    -- amount payed by student to university\n",
    "    SELECT SUM(AMOUNT) FROM BANK_TRANSFER WHERE PERSON_ID = {studentid} AND OUTGOING = 0\n",
    ")\n",
    "+ \n",
    "(\n",
    "    -- amount payed by university to student\n",
    "    SELECT SUM(AMOUNT) FROM BANK_TRANSFER WHERE PERSON_ID = {studentid} AND OUTGOING = 1\n",
    ") AS STUDENT_DEBT\n",
    "\n"
   ]
  },
  {
   "cell_type": "markdown",
   "metadata": {},
   "source": [
    "# Find University Debt To Professor (Professor Credit)"
   ]
  },
  {
   "cell_type": "code",
   "execution_count": null,
   "metadata": {
    "vscode": {
     "languageId": "sql"
    }
   },
   "outputs": [],
   "source": [
    "professor_name = '\"Quill Annes\"'"
   ]
  },
  {
   "cell_type": "code",
   "execution_count": null,
   "metadata": {
    "vscode": {
     "languageId": "sql"
    }
   },
   "outputs": [],
   "source": [
    "%%sql\n",
    "SELECT\n",
    "prof.PERSON_ID as pid,\n",
    "(\n",
    "    -- amount owed by university\n",
    "    SELECT SUM(crs.PROFESSOR_PAY * prof_crs.WEEKLY_HOURS) \n",
    "    FROM COURSE crs \n",
    "    JOIN PROFESSOR_COURSE prof_crs \n",
    "    ON crs.course_id = prof_crs.course_id\n",
    "    WHERE prof_crs.PROFESSOR_ID = pid\n",
    ")\n",
    "- \n",
    "(\n",
    "    -- amount payed by university to professor\n",
    "    SELECT SUM(AMOUNT) FROM BANK_TRANSFER WHERE PERSON_ID = pid AND OUTGOING = 1\n",
    ")\n",
    "+ \n",
    "(\n",
    "    -- amount payed by professor to university\n",
    "    SELECT SUM(AMOUNT) FROM BANK_TRANSFER WHERE PERSON_ID = pid AND OUTGOING = 0\n",
    ") AS PROFESSOR_CREDIT\n",
    "FROM PERSON per \n",
    "JOIN PROFESSOR prof \n",
    "ON per.person_id = prof.person_id \n",
    "WHERE CONCAT(per.first_name, ' ', per.last_name) = {professor_name}"
   ]
  },
  {
   "cell_type": "markdown",
   "metadata": {},
   "source": [
    "# Find Courses Taught By \"Old\" Professors"
   ]
  },
  {
   "cell_type": "code",
   "execution_count": null,
   "metadata": {
    "vscode": {
     "languageId": "sql"
    }
   },
   "outputs": [],
   "source": [
    "old_cutoff = '1991-01-01'"
   ]
  },
  {
   "cell_type": "code",
   "execution_count": null,
   "metadata": {
    "vscode": {
     "languageId": "sql"
    }
   },
   "outputs": [],
   "source": [
    "%%sql\n",
    "SELECT\n",
    "    c.course_name, \n",
    "    CONCAT(per.first_name, ' ', per.last_name) AS professor_name, \n",
    "    per.date_of_birth\n",
    "FROM \n",
    "    COURSE c\n",
    "JOIN \n",
    "    PROFESSOR_COURSE pc ON c.course_id = pc.course_id\n",
    "JOIN \n",
    "    PROFESSOR p ON pc.professor_id = p.person_id\n",
    "JOIN \n",
    "    PERSON per ON p.person_id = per.person_id\n",
    "WHERE \n",
    "    per.date_of_birth < \"{old_cutoff}\";"
   ]
  },
  {
   "cell_type": "markdown",
   "metadata": {},
   "source": [
    "# Find How Profitable A Specific Course Is"
   ]
  },
  {
   "cell_type": "code",
   "execution_count": null,
   "metadata": {
    "vscode": {
     "languageId": "sql"
    }
   },
   "outputs": [],
   "source": [
    "course_name = \"Magical Geography\""
   ]
  },
  {
   "cell_type": "code",
   "execution_count": null,
   "metadata": {
    "vscode": {
     "languageId": "sql"
    }
   },
   "outputs": [],
   "source": [
    "%%sql\n",
    "SELECT \n",
    "    c.course_name,\n",
    "    c.course_cost * COUNT(sc.student_id) AS total_course_revenue\n",
    "FROM \n",
    "    COURSE c\n",
    "JOIN \n",
    "    STUDENT_COURSE sc ON c.course_id = sc.course_id\n",
    "WHERE \n",
    "    c.course_name = '{course_name}'\n",
    "GROUP BY \n",
    "    c.course_name, c.course_cost;"
   ]
  }
 ],
 "metadata": {
  "kernelspec": {
   "display_name": "Python 3",
   "language": "python",
   "name": "python3"
  },
  "language_info": {
   "codemirror_mode": {
    "name": "ipython",
    "version": 3
   },
   "file_extension": ".py",
   "mimetype": "text/x-python",
   "name": "python",
   "nbconvert_exporter": "python",
   "pygments_lexer": "ipython3",
   "version": "3.10.4"
  }
 },
 "nbformat": 4,
 "nbformat_minor": 2
}
