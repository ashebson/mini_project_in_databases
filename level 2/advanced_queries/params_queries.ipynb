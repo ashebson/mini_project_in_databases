{
 "cells": [
  {
   "cell_type": "markdown",
   "metadata": {},
   "source": [
    "# Connect To DB"
   ]
  },
  {
   "cell_type": "code",
   "execution_count": 10,
   "metadata": {},
   "outputs": [
    {
     "name": "stdout",
     "output_type": "stream",
     "text": [
      "The sql extension is already loaded. To reload it, use:\n",
      "  %reload_ext sql\n"
     ]
    }
   ],
   "source": [
    "%load_ext sql\n",
    "%sql mysql://no_pass@localhost:3306/HogwartzAccounting?local_infile=1"
   ]
  },
  {
   "cell_type": "markdown",
   "metadata": {},
   "source": [
    "# Find Student Debt To University"
   ]
  },
  {
   "cell_type": "code",
   "execution_count": 11,
   "metadata": {},
   "outputs": [],
   "source": [
    "studentid = 41"
   ]
  },
  {
   "cell_type": "code",
   "execution_count": 12,
   "metadata": {
    "vscode": {
     "languageId": "sql"
    }
   },
   "outputs": [
    {
     "name": "stdout",
     "output_type": "stream",
     "text": [
      " * mysql://no_pass@localhost:3306/HogwartzAccounting?local_infile=1\n",
      "1 rows affected.\n"
     ]
    },
    {
     "data": {
      "text/html": [
       "<table>\n",
       "    <thead>\n",
       "        <tr>\n",
       "            <th>STUDENT_DEBT</th>\n",
       "        </tr>\n",
       "    </thead>\n",
       "    <tbody>\n",
       "        <tr>\n",
       "            <td>-164.79</td>\n",
       "        </tr>\n",
       "    </tbody>\n",
       "</table>"
      ],
      "text/plain": [
       "[(Decimal('-164.79'),)]"
      ]
     },
     "execution_count": 12,
     "metadata": {},
     "output_type": "execute_result"
    }
   ],
   "source": [
    "%%sql\n",
    "SELECT\n",
    "\n",
    "(\n",
    "    -- amount owed by student\n",
    "    SELECT SUM(COURSE_COST) FROM COURSE WHERE COURSE_ID IN (\n",
    "        SELECT COURSE_ID FROM STUDENT_COURSE WHERE STUDENT_ID = {studentid}\n",
    "    )\n",
    ")\n",
    "- \n",
    "(\n",
    "    -- amount payed by student to university\n",
    "    SELECT SUM(AMOUNT) FROM BANK_TRANSFER WHERE PERSON_ID = {studentid} AND OUTGOING = 0\n",
    ")\n",
    "+ \n",
    "(\n",
    "    -- amount payed by university to student\n",
    "    SELECT SUM(AMOUNT) FROM BANK_TRANSFER WHERE PERSON_ID = {studentid} AND OUTGOING = 1\n",
    ") AS STUDENT_DEBT\n",
    "\n"
   ]
  },
  {
   "cell_type": "markdown",
   "metadata": {},
   "source": [
    "# Find University Debt To Professor (Professor Credit)"
   ]
  },
  {
   "cell_type": "code",
   "execution_count": 13,
   "metadata": {
    "vscode": {
     "languageId": "sql"
    }
   },
   "outputs": [],
   "source": [
    "professor_name = '\"Quill Annes\"'"
   ]
  },
  {
   "cell_type": "code",
   "execution_count": 14,
   "metadata": {
    "vscode": {
     "languageId": "sql"
    }
   },
   "outputs": [
    {
     "name": "stdout",
     "output_type": "stream",
     "text": [
      " * mysql://no_pass@localhost:3306/HogwartzAccounting?local_infile=1\n",
      "1 rows affected.\n"
     ]
    },
    {
     "data": {
      "text/html": [
       "<table>\n",
       "    <thead>\n",
       "        <tr>\n",
       "            <th>pid</th>\n",
       "            <th>PROFESSOR_CREDIT</th>\n",
       "        </tr>\n",
       "    </thead>\n",
       "    <tbody>\n",
       "        <tr>\n",
       "            <td>396</td>\n",
       "            <td>279.29</td>\n",
       "        </tr>\n",
       "    </tbody>\n",
       "</table>"
      ],
      "text/plain": [
       "[(396, Decimal('279.29'))]"
      ]
     },
     "execution_count": 14,
     "metadata": {},
     "output_type": "execute_result"
    }
   ],
   "source": [
    "%%sql\n",
    "SELECT\n",
    "prof.PERSON_ID as pid,\n",
    "(\n",
    "    -- amount owed by university\n",
    "    SELECT SUM(crs.PROFESSOR_PAY * prof_crs.WEEKLY_HOURS) \n",
    "    FROM COURSE crs \n",
    "    JOIN PROFESSOR_COURSE prof_crs \n",
    "    ON crs.course_id = prof_crs.course_id\n",
    "    WHERE prof_crs.PROFESSOR_ID = pid\n",
    ")\n",
    "- \n",
    "(\n",
    "    -- amount payed by university to professor\n",
    "    SELECT SUM(AMOUNT) FROM BANK_TRANSFER WHERE PERSON_ID = pid AND OUTGOING = 1\n",
    ")\n",
    "+ \n",
    "(\n",
    "    -- amount payed by professor to university\n",
    "    SELECT SUM(AMOUNT) FROM BANK_TRANSFER WHERE PERSON_ID = pid AND OUTGOING = 0\n",
    ") AS PROFESSOR_CREDIT\n",
    "FROM PERSON per \n",
    "JOIN PROFESSOR prof \n",
    "ON per.person_id = prof.person_id \n",
    "WHERE CONCAT(per.first_name, ' ', per.last_name) = {professor_name}"
   ]
  },
  {
   "cell_type": "markdown",
   "metadata": {},
   "source": [
    "# Find Courses Taught By \"Old\" Professors"
   ]
  },
  {
   "cell_type": "code",
   "execution_count": 15,
   "metadata": {
    "vscode": {
     "languageId": "sql"
    }
   },
   "outputs": [],
   "source": [
    "old_cutoff = '1991-01-01'"
   ]
  },
  {
   "cell_type": "code",
   "execution_count": 16,
   "metadata": {
    "vscode": {
     "languageId": "sql"
    }
   },
   "outputs": [
    {
     "name": "stdout",
     "output_type": "stream",
     "text": [
      " * mysql://no_pass@localhost:3306/HogwartzAccounting?local_infile=1\n",
      "22 rows affected.\n"
     ]
    },
    {
     "data": {
      "text/html": [
       "<table>\n",
       "    <thead>\n",
       "        <tr>\n",
       "            <th>course_name</th>\n",
       "            <th>professor_name</th>\n",
       "            <th>date_of_birth</th>\n",
       "        </tr>\n",
       "    </thead>\n",
       "    <tbody>\n",
       "        <tr>\n",
       "            <td>Wizard Analytical Skills</td>\n",
       "            <td>Billie Boote</td>\n",
       "            <td>1990-03-08</td>\n",
       "        </tr>\n",
       "        <tr>\n",
       "            <td>Wizard Time Management</td>\n",
       "            <td>Billie Boote</td>\n",
       "            <td>1990-03-08</td>\n",
       "        </tr>\n",
       "        <tr>\n",
       "            <td>Magical Botany</td>\n",
       "            <td>Billie Boote</td>\n",
       "            <td>1990-03-08</td>\n",
       "        </tr>\n",
       "        <tr>\n",
       "            <td>Wizard Harassment</td>\n",
       "            <td>Pearle Bagby</td>\n",
       "            <td>1990-02-02</td>\n",
       "        </tr>\n",
       "        <tr>\n",
       "            <td>Wizard Risk Management</td>\n",
       "            <td>Steffie Reggiani</td>\n",
       "            <td>1990-11-21</td>\n",
       "        </tr>\n",
       "        <tr>\n",
       "            <td>Wizard Succession Planning</td>\n",
       "            <td>Steffie Reggiani</td>\n",
       "            <td>1990-11-21</td>\n",
       "        </tr>\n",
       "        <tr>\n",
       "            <td>Advanced Charms</td>\n",
       "            <td>Steffie Reggiani</td>\n",
       "            <td>1990-11-21</td>\n",
       "        </tr>\n",
       "        <tr>\n",
       "            <td>Wizard Laissez-faire Leadership</td>\n",
       "            <td>Dunstan Dot</td>\n",
       "            <td>1990-09-26</td>\n",
       "        </tr>\n",
       "        <tr>\n",
       "            <td>Memory Charms</td>\n",
       "            <td>Dunstan Dot</td>\n",
       "            <td>1990-09-26</td>\n",
       "        </tr>\n",
       "        <tr>\n",
       "            <td>Basic Magical Cuisine</td>\n",
       "            <td>Xymenes Sogg</td>\n",
       "            <td>1990-03-25</td>\n",
       "        </tr>\n",
       "        <tr>\n",
       "            <td>Wizard Political Leadership</td>\n",
       "            <td>Xymenes Sogg</td>\n",
       "            <td>1990-03-25</td>\n",
       "        </tr>\n",
       "        <tr>\n",
       "            <td>Wizard Physical Leadership</td>\n",
       "            <td>Xymenes Sogg</td>\n",
       "            <td>1990-03-25</td>\n",
       "        </tr>\n",
       "        <tr>\n",
       "            <td>Magical Ethics and Society</td>\n",
       "            <td>Daren Negri</td>\n",
       "            <td>1990-09-20</td>\n",
       "        </tr>\n",
       "        <tr>\n",
       "            <td>Potions and Elixirs I</td>\n",
       "            <td>Urbain Jansema</td>\n",
       "            <td>1990-03-02</td>\n",
       "        </tr>\n",
       "        <tr>\n",
       "            <td>Magical Botany</td>\n",
       "            <td>Van Million</td>\n",
       "            <td>1990-06-25</td>\n",
       "        </tr>\n",
       "        <tr>\n",
       "            <td>Wizard Coaching Leadership</td>\n",
       "            <td>Van Million</td>\n",
       "            <td>1990-06-25</td>\n",
       "        </tr>\n",
       "        <tr>\n",
       "            <td>Wizard Autocratic Leadership</td>\n",
       "            <td>Van Million</td>\n",
       "            <td>1990-06-25</td>\n",
       "        </tr>\n",
       "        <tr>\n",
       "            <td>Advanced Potion Brewing</td>\n",
       "            <td>Farleigh Santarelli</td>\n",
       "            <td>1990-03-06</td>\n",
       "        </tr>\n",
       "        <tr>\n",
       "            <td>Wizard Paternalistic Leadership</td>\n",
       "            <td>Farleigh Santarelli</td>\n",
       "            <td>1990-03-06</td>\n",
       "        </tr>\n",
       "        <tr>\n",
       "            <td>Advanced Enchantments</td>\n",
       "            <td>Farleigh Santarelli</td>\n",
       "            <td>1990-03-06</td>\n",
       "        </tr>\n",
       "        <tr>\n",
       "            <td>Advanced Magical History</td>\n",
       "            <td>Vittorio Dommerque</td>\n",
       "            <td>1990-06-10</td>\n",
       "        </tr>\n",
       "        <tr>\n",
       "            <td>Advanced Magical Theory</td>\n",
       "            <td>Vittorio Dommerque</td>\n",
       "            <td>1990-06-10</td>\n",
       "        </tr>\n",
       "    </tbody>\n",
       "</table>"
      ],
      "text/plain": [
       "[('Wizard Analytical Skills', 'Billie Boote', datetime.date(1990, 3, 8)),\n",
       " ('Wizard Time Management', 'Billie Boote', datetime.date(1990, 3, 8)),\n",
       " ('Magical Botany', 'Billie Boote', datetime.date(1990, 3, 8)),\n",
       " ('Wizard Harassment', 'Pearle Bagby', datetime.date(1990, 2, 2)),\n",
       " ('Wizard Risk Management', 'Steffie Reggiani', datetime.date(1990, 11, 21)),\n",
       " ('Wizard Succession Planning', 'Steffie Reggiani', datetime.date(1990, 11, 21)),\n",
       " ('Advanced Charms', 'Steffie Reggiani', datetime.date(1990, 11, 21)),\n",
       " ('Wizard Laissez-faire Leadership', 'Dunstan Dot', datetime.date(1990, 9, 26)),\n",
       " ('Memory Charms', 'Dunstan Dot', datetime.date(1990, 9, 26)),\n",
       " ('Basic Magical Cuisine', 'Xymenes Sogg', datetime.date(1990, 3, 25)),\n",
       " ('Wizard Political Leadership', 'Xymenes Sogg', datetime.date(1990, 3, 25)),\n",
       " ('Wizard Physical Leadership', 'Xymenes Sogg', datetime.date(1990, 3, 25)),\n",
       " ('Magical Ethics and Society', 'Daren Negri', datetime.date(1990, 9, 20)),\n",
       " ('Potions and Elixirs I', 'Urbain Jansema', datetime.date(1990, 3, 2)),\n",
       " ('Magical Botany', 'Van Million', datetime.date(1990, 6, 25)),\n",
       " ('Wizard Coaching Leadership', 'Van Million', datetime.date(1990, 6, 25)),\n",
       " ('Wizard Autocratic Leadership', 'Van Million', datetime.date(1990, 6, 25)),\n",
       " ('Advanced Potion Brewing', 'Farleigh Santarelli', datetime.date(1990, 3, 6)),\n",
       " ('Wizard Paternalistic Leadership', 'Farleigh Santarelli', datetime.date(1990, 3, 6)),\n",
       " ('Advanced Enchantments', 'Farleigh Santarelli', datetime.date(1990, 3, 6)),\n",
       " ('Advanced Magical History', 'Vittorio Dommerque', datetime.date(1990, 6, 10)),\n",
       " ('Advanced Magical Theory', 'Vittorio Dommerque', datetime.date(1990, 6, 10))]"
      ]
     },
     "execution_count": 16,
     "metadata": {},
     "output_type": "execute_result"
    }
   ],
   "source": [
    "%%sql\n",
    "SELECT\n",
    "    c.course_name, \n",
    "    CONCAT(per.first_name, ' ', per.last_name) AS professor_name, \n",
    "    per.date_of_birth\n",
    "FROM \n",
    "    COURSE c\n",
    "JOIN \n",
    "    PROFESSOR_COURSE pc ON c.course_id = pc.course_id\n",
    "JOIN \n",
    "    PROFESSOR p ON pc.professor_id = p.person_id\n",
    "JOIN \n",
    "    PERSON per ON p.person_id = per.person_id\n",
    "WHERE \n",
    "    per.date_of_birth < \"{old_cutoff}\";"
   ]
  },
  {
   "cell_type": "markdown",
   "metadata": {},
   "source": [
    "# Find How Profitable A Specific Course Is"
   ]
  },
  {
   "cell_type": "code",
   "execution_count": 17,
   "metadata": {
    "vscode": {
     "languageId": "sql"
    }
   },
   "outputs": [],
   "source": [
    "course_name = \"Magical Geography\""
   ]
  },
  {
   "cell_type": "code",
   "execution_count": 18,
   "metadata": {
    "vscode": {
     "languageId": "sql"
    }
   },
   "outputs": [
    {
     "name": "stdout",
     "output_type": "stream",
     "text": [
      " * mysql://no_pass@localhost:3306/HogwartzAccounting?local_infile=1\n",
      "1 rows affected.\n"
     ]
    },
    {
     "data": {
      "text/html": [
       "<table>\n",
       "    <thead>\n",
       "        <tr>\n",
       "            <th>course_name</th>\n",
       "            <th>total_course_revenue</th>\n",
       "        </tr>\n",
       "    </thead>\n",
       "    <tbody>\n",
       "        <tr>\n",
       "            <td>Magical Geography</td>\n",
       "            <td>585.10</td>\n",
       "        </tr>\n",
       "    </tbody>\n",
       "</table>"
      ],
      "text/plain": [
       "[('Magical Geography', Decimal('585.10'))]"
      ]
     },
     "execution_count": 18,
     "metadata": {},
     "output_type": "execute_result"
    }
   ],
   "source": [
    "%%sql\n",
    "SELECT \n",
    "    c.course_name,\n",
    "    c.course_cost * COUNT(sc.student_id) AS total_course_revenue\n",
    "FROM \n",
    "    COURSE c\n",
    "JOIN \n",
    "    STUDENT_COURSE sc ON c.course_id = sc.course_id\n",
    "WHERE \n",
    "    c.course_name = '{course_name}'\n",
    "GROUP BY \n",
    "    c.course_name, c.course_cost;"
   ]
  }
 ],
 "metadata": {
  "kernelspec": {
   "display_name": "Python 3",
   "language": "python",
   "name": "python3"
  },
  "language_info": {
   "codemirror_mode": {
    "name": "ipython",
    "version": 3
   },
   "file_extension": ".py",
   "mimetype": "text/x-python",
   "name": "python",
   "nbconvert_exporter": "python",
   "pygments_lexer": "ipython3",
   "version": "3.10.4"
  }
 },
 "nbformat": 4,
 "nbformat_minor": 2
}
