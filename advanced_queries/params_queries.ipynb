{
 "cells": [
  {
   "cell_type": "markdown",
   "metadata": {},
   "source": [
    "# Connect To DB"
   ]
  },
  {
   "cell_type": "code",
   "execution_count": 1,
   "metadata": {},
   "outputs": [],
   "source": [
    "%load_ext sql\n",
    "%sql mysql://root@localhost:3306/HogwartzAccounting?local_infile=1"
   ]
  },
  {
   "cell_type": "markdown",
   "metadata": {},
   "source": [
    "# Find Student Debt To University"
   ]
  },
  {
   "cell_type": "code",
   "execution_count": 56,
   "metadata": {},
   "outputs": [],
   "source": [
    "studentid = 41"
   ]
  },
  {
   "cell_type": "code",
   "execution_count": 74,
   "metadata": {
    "vscode": {
     "languageId": "sql"
    }
   },
   "outputs": [
    {
     "name": "stdout",
     "output_type": "stream",
     "text": [
      " * mysql://root@localhost:3306/HogwartzAccounting?local_infile=1\n",
      "1 rows affected.\n"
     ]
    },
    {
     "data": {
      "text/html": [
       "<table>\n",
       "    <thead>\n",
       "        <tr>\n",
       "            <th>STUDENT_DEBT</th>\n",
       "        </tr>\n",
       "    </thead>\n",
       "    <tbody>\n",
       "        <tr>\n",
       "            <td>1056.07</td>\n",
       "        </tr>\n",
       "    </tbody>\n",
       "</table>"
      ],
      "text/plain": [
       "[(Decimal('1056.07'),)]"
      ]
     },
     "execution_count": 74,
     "metadata": {},
     "output_type": "execute_result"
    }
   ],
   "source": [
    "%%sql\n",
    "SELECT\n",
    "\n",
    "(\n",
    "    -- amount owed by student\n",
    "    SELECT SUM(COURSE_COST) FROM COURSE WHERE COURSE_ID IN (\n",
    "        SELECT COURSE_ID FROM STUDENT_COURSE WHERE STUDENT_ID = {studentid}\n",
    "    )\n",
    ")\n",
    "- \n",
    "(\n",
    "    -- amount payed by student to university\n",
    "    SELECT SUM(AMOUNT) FROM BANK_TRANSFER WHERE PERSON_ID = {studentid} AND OUTGOING = 0\n",
    ")\n",
    "+ \n",
    "(\n",
    "    -- amount payed by university to student\n",
    "    SELECT SUM(AMOUNT) FROM BANK_TRANSFER WHERE PERSON_ID = {studentid} AND OUTGOING = 1\n",
    ") AS STUDENT_DEBT\n",
    "\n"
   ]
  },
  {
   "cell_type": "markdown",
   "metadata": {},
   "source": [
    "# Find University Debt To Professor (Professor Credit)"
   ]
  },
  {
   "cell_type": "code",
   "execution_count": 88,
   "metadata": {
    "vscode": {
     "languageId": "sql"
    }
   },
   "outputs": [],
   "source": [
    "professorid = 396"
   ]
  },
  {
   "cell_type": "code",
   "execution_count": 90,
   "metadata": {
    "vscode": {
     "languageId": "sql"
    }
   },
   "outputs": [
    {
     "name": "stdout",
     "output_type": "stream",
     "text": [
      " * mysql://root@localhost:3306/HogwartzAccounting?local_infile=1\n",
      "1 rows affected.\n"
     ]
    },
    {
     "data": {
      "text/html": [
       "<table>\n",
       "    <thead>\n",
       "        <tr>\n",
       "            <th>PROFESSOR_CREDIT</th>\n",
       "        </tr>\n",
       "    </thead>\n",
       "    <tbody>\n",
       "        <tr>\n",
       "            <td>920.26</td>\n",
       "        </tr>\n",
       "    </tbody>\n",
       "</table>"
      ],
      "text/plain": [
       "[(Decimal('920.26'),)]"
      ]
     },
     "execution_count": 90,
     "metadata": {},
     "output_type": "execute_result"
    }
   ],
   "source": [
    "%%sql\n",
    "SELECT\n",
    "\n",
    "(\n",
    "    -- amount owed by university\n",
    "    SELECT SUM(PROFESSOR_PAY) FROM COURSE WHERE COURSE_ID IN (\n",
    "        SELECT COURSE_ID FROM STUDENT_COURSE WHERE STUDENT_ID = {studentid}\n",
    "    )\n",
    ")\n",
    "- \n",
    "(\n",
    "    -- amount payed by university to professor\n",
    "    SELECT SUM(AMOUNT) FROM BANK_TRANSFER WHERE PERSON_ID = {professorid} AND OUTGOING = 1\n",
    ")\n",
    "+ \n",
    "(\n",
    "    -- amount payed by professor to university\n",
    "    SELECT SUM(AMOUNT) FROM BANK_TRANSFER WHERE PERSON_ID = {professorid} AND OUTGOING = 0\n",
    ") AS PROFESSOR_CREDIT"
   ]
  }
 ],
 "metadata": {
  "kernelspec": {
   "display_name": "Python 3",
   "language": "python",
   "name": "python3"
  },
  "language_info": {
   "codemirror_mode": {
    "name": "ipython",
    "version": 3
   },
   "file_extension": ".py",
   "mimetype": "text/x-python",
   "name": "python",
   "nbconvert_exporter": "python",
   "pygments_lexer": "ipython3",
   "version": "3.10.4"
  }
 },
 "nbformat": 4,
 "nbformat_minor": 2
}
